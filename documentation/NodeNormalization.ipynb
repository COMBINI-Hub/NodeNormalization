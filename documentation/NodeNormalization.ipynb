{
 "cells": [
  {
   "cell_type": "markdown",
   "metadata": {
    "slideshow": {
     "slide_type": "slide"
    }
   },
   "source": [
    "# NodeNormalization"
   ]
  },
  {
   "cell_type": "markdown",
   "metadata": {
    "slideshow": {
     "slide_type": "slide"
    }
   },
   "source": [
    "## Introduction\n",
    "\n",
    "[Node normalization](https://nodenormalization-sri.renci.org/apidocs) takes a CURIE, and returns:\n",
    "\n",
    "* The preferred CURIE for this entity\n",
    "* All other known equivalent identifiers for the entity\n",
    "* Semantic types for the entity as defined by the [Biolink Model](https://biolink.github.io/biolink-model/)\n",
    "\n",
    "The data currently served by Node Normalization is created by the prototype project [Babel](https://github.com/TranslatorIIPrototypes/Babel), which attempts to find identifier equivalences, and makes sure that CURIE prefixes are Biolink Model compliant.  NodeNormalization, however, is independent of Babel and as improved identifier equivalence tools are developed, their results can be easily incorporated."
   ]
  },
  {
   "cell_type": "markdown",
   "metadata": {
    "slideshow": {
     "slide_type": "slide"
    }
   },
   "source": [
    "## Metadata\n",
    "\n",
    "There are two metadata services that can be used to find out what sorts of results have been incorporated into NodeNormalization.  These return the semantic types that are included, and the prefixes included for each type."
   ]
  },
  {
   "cell_type": "markdown",
   "metadata": {
    "slideshow": {
     "slide_type": "slide"
    }
   },
   "source": [
    "Which types have been normalized?"
   ]
  },
  {
   "cell_type": "code",
   "execution_count": 1,
   "metadata": {
    "slideshow": {
     "slide_type": "subslide"
    }
   },
   "outputs": [
    {
     "name": "stdout",
     "output_type": "stream",
     "text": [
      "{\n",
      "  \"semantic_types\": {\n",
      "    \"types\": [\n",
      "      \"biolink:ChemicalSubstance\",\n",
      "      \"biolink:OntologyClass\",\n",
      "      \"biolink:MolecularEntity\",\n",
      "      \"biolink:AnatomicalEntity\",\n",
      "      \"biolink:GenomicEntity\",\n",
      "      \"biolink:CellularComponent\",\n",
      "      \"biolink:GeneOrGeneProduct\",\n",
      "      \"biolink:PhenotypicFeature\",\n",
      "      \"biolink:BiologicalProcess\",\n",
      "      \"biolink:OrganismTaxon\",\n",
      "      \"biolink:GeneFamily\",\n",
      "      \"biolink:DiseaseOrPhenotypicFeature\",\n",
      "      \"biolink:Gene\",\n",
      "      \"biolink:BiologicalProcessOrActivity\",\n",
      "      \"biolink:OrganismalEntity\",\n",
      "      \"biolink:Disease\",\n",
      "      \"biolink:BiologicalEntity\",\n",
      "      \"biolink:MolecularActivity\",\n",
      "      \"biolink:MacromolecularMachine\",\n",
      "      \"biolink:Cell\",\n",
      "      \"biolink:NamedThing\",\n",
      "      \"biolink:Pathway\"\n",
      "    ]\n",
      "  }\n",
      "}\n"
     ]
    }
   ],
   "source": [
    "import json \n",
    "import requests\n",
    "\n",
    "result = requests.get('https://nodenormalization-sri.renci.org/get_semantic_types')\n",
    "print( json.dumps( result.json(), indent = 2))"
   ]
  },
  {
   "cell_type": "markdown",
   "metadata": {
    "slideshow": {
     "slide_type": "slide"
    }
   },
   "source": [
    "Even if a semantic type has some identifier equivalence, not every vocabulary has been included.  To see which vocabularies are likely to give useful results, call:"
   ]
  },
  {
   "cell_type": "code",
   "execution_count": 3,
   "metadata": {
    "slideshow": {
     "slide_type": "subslide"
    }
   },
   "outputs": [
    {
     "name": "stdout",
     "output_type": "stream",
     "text": [
      "{\n",
      "  \"biolink:ChemicalSubstance\": {\n",
      "    \"curie_prefix\": {\n",
      "      \"PUBCHEM.COMPOUND\": \"70567467\",\n",
      "      \"INCHIKEY\": \"70408859\",\n",
      "      \"CHEMBL.COMPOUND\": \"1380728\",\n",
      "      \"MESH\": \"200431\",\n",
      "      \"CHEBI\": \"91359\",\n",
      "      \"KEGG\": \"13684\",\n",
      "      \"HMDB\": \"83303\",\n",
      "      \"UNII\": \"60587\",\n",
      "      \"DRUGBANK\": \"7843\",\n",
      "      \"gtpo\": \"5958\"\n",
      "    }\n",
      "  }\n",
      "}\n"
     ]
    }
   ],
   "source": [
    "result = requests.get('https://nodenormalization-sri.renci.org/get_curie_prefixes/',\n",
    "                     params={'semantic_type':\"biolink:ChemicalSubstance\"})\n",
    "print( json.dumps( result.json(), indent = 2))"
   ]
  },
  {
   "cell_type": "markdown",
   "metadata": {
    "slideshow": {
     "slide_type": "skip"
    }
   },
   "source": [
    "More than one type can be queried:"
   ]
  },
  {
   "cell_type": "code",
   "execution_count": 4,
   "metadata": {
    "slideshow": {
     "slide_type": "skip"
    }
   },
   "outputs": [
    {
     "name": "stdout",
     "output_type": "stream",
     "text": [
      "{\n",
      "  \"biolink:ChemicalSubstance\": {\n",
      "    \"curie_prefix\": {\n",
      "      \"PUBCHEM.COMPOUND\": \"70567467\",\n",
      "      \"INCHIKEY\": \"70408859\",\n",
      "      \"CHEMBL.COMPOUND\": \"1380728\",\n",
      "      \"MESH\": \"200431\",\n",
      "      \"CHEBI\": \"91359\",\n",
      "      \"KEGG\": \"13684\",\n",
      "      \"HMDB\": \"83303\",\n",
      "      \"UNII\": \"60587\",\n",
      "      \"DRUGBANK\": \"7843\",\n",
      "      \"gtpo\": \"5958\"\n",
      "    }\n",
      "  },\n",
      "  \"biolink:Disease\": {\n",
      "    \"curie_prefix\": {\n",
      "      \"UMLS\": \"109600\",\n",
      "      \"SNOMEDCT\": \"75365\",\n",
      "      \"NCIT\": \"18041\",\n",
      "      \"MEDDRA\": \"10946\",\n",
      "      \"MONDO\": \"22251\",\n",
      "      \"DOID\": \"8995\",\n",
      "      \"OMIM\": \"8762\",\n",
      "      \"ORPHANET\": \"9182\",\n",
      "      \"MESH\": \"10636\",\n",
      "      \"HP\": \"1834\",\n",
      "      \"EFO\": \"1914\",\n",
      "      \"medgen\": \"3\",\n",
      "      \"ICD10\": \"12\",\n",
      "      \"ICD9\": \"5\",\n",
      "      \"MP\": \"2\"\n",
      "    }\n",
      "  }\n",
      "}\n"
     ]
    }
   ],
   "source": [
    "result = requests.get('https://nodenormalization-sri.renci.org/get_curie_prefixes/',\n",
    "                     params={'semantic_type':[\"biolink:ChemicalSubstance\",\"biolink:Disease\"]})\n",
    "print( json.dumps( result.json(), indent = 2))"
   ]
  },
  {
   "cell_type": "markdown",
   "metadata": {
    "slideshow": {
     "slide_type": "slide"
    }
   },
   "source": [
    "## Normalization"
   ]
  },
  {
   "cell_type": "markdown",
   "metadata": {
    "slideshow": {
     "slide_type": "subslide"
    }
   },
   "source": [
    "Given one or more Compact URIs (CURIES), `get_normalized_node` will return a list of equivalent identifiers for the entity, along with the Translator-preferred identifier, and the semantic type(s) for the entity.  This service is merely returning pre-computed values, and does no equivalence inference on its own.  If a CURIE is unknown to it, then null is returned."
   ]
  },
  {
   "cell_type": "markdown",
   "metadata": {
    "slideshow": {
     "slide_type": "slide"
    }
   },
   "source": [
    "In this example, `get_normalized_node` is called with a MeSH identifier.   MeSH contains many different semantic types, but the service correctly identifies the term."
   ]
  },
  {
   "cell_type": "code",
   "execution_count": 5,
   "metadata": {
    "scrolled": true,
    "slideshow": {
     "slide_type": "subslide"
    }
   },
   "outputs": [
    {
     "name": "stdout",
     "output_type": "stream",
     "text": [
      "{\n",
      "  \"MESH:D014867\": {\n",
      "    \"id\": {\n",
      "      \"identifier\": \"CHEBI:15377\",\n",
      "      \"label\": \"water\"\n",
      "    },\n",
      "    \"equivalent_identifiers\": [\n",
      "      {\n",
      "        \"identifier\": \"CHEBI:15377\",\n",
      "        \"label\": \"water\"\n",
      "      },\n",
      "      {\n",
      "        \"identifier\": \"CHEMBL.COMPOUND:CHEMBL1098659\",\n",
      "        \"label\": \"WATER\"\n",
      "      },\n",
      "      {\n",
      "        \"identifier\": \"DRUGBANK:DB09145\"\n",
      "      },\n",
      "      {\n",
      "        \"identifier\": \"PUBCHEM.COMPOUND:22247451\"\n",
      "      },\n",
      "      {\n",
      "        \"identifier\": \"PUBCHEM.COMPOUND:962\"\n",
      "      },\n",
      "      {\n",
      "        \"identifier\": \"MESH:D014867\",\n",
      "        \"label\": \"Water\"\n",
      "      },\n",
      "      {\n",
      "        \"identifier\": \"HMDB:HMDB0002111\"\n",
      "      },\n",
      "      {\n",
      "        \"identifier\": \"INCHIKEY:IKBQPNVYXHKVJS-LVZFUZTISA-N\"\n",
      "      },\n",
      "      {\n",
      "        \"identifier\": \"UNII:059QF0KO0R\"\n",
      "      },\n",
      "      {\n",
      "        \"identifier\": \"KEGG:C00001\",\n",
      "        \"label\": \"H2O\"\n",
      "      }\n",
      "    ],\n",
      "    \"type\": [\n",
      "      \"biolink:ChemicalSubstance\",\n",
      "      \"biolink:MolecularEntity\",\n",
      "      \"biolink:BiologicalEntity\",\n",
      "      \"biolink:NamedThing\"\n",
      "    ]\n",
      "  }\n",
      "}\n"
     ]
    }
   ],
   "source": [
    "result = requests.get('https://nodenormalization-sri.renci.org/get_normalized_nodes',\n",
    "                     params={'curie':\"MESH:D014867\"})\n",
    "print( json.dumps( result.json(), indent = 2))"
   ]
  },
  {
   "cell_type": "markdown",
   "metadata": {
    "slideshow": {
     "slide_type": "slide"
    }
   },
   "source": [
    "To improve performance, multiple CURIEs may be batched into a single function call as a POST:"
   ]
  },
  {
   "cell_type": "code",
   "execution_count": 11,
   "metadata": {
    "scrolled": true,
    "slideshow": {
     "slide_type": "subslide"
    }
   },
   "outputs": [
    {
     "name": "stdout",
     "output_type": "stream",
     "text": [
      "{\n",
      "  \"HP:0007354\": {\n",
      "    \"id\": {\n",
      "      \"identifier\": \"MONDO:0004976\",\n",
      "      \"label\": \"amyotrophic lateral sclerosis\"\n",
      "    },\n",
      "    \"equivalent_identifiers\": [\n",
      "      {\n",
      "        \"identifier\": \"MONDO:0004976\",\n",
      "        \"label\": \"amyotrophic lateral sclerosis\"\n",
      "      },\n",
      "      {\n",
      "        \"identifier\": \"DOID:332\"\n",
      "      },\n",
      "      {\n",
      "        \"identifier\": \"ORPHANET:803\"\n",
      "      },\n",
      "      {\n",
      "        \"identifier\": \"EFO:0000253\",\n",
      "        \"label\": \"amyotrophic lateral sclerosis\"\n",
      "      },\n",
      "      {\n",
      "        \"identifier\": \"UMLS:C0393554\"\n",
      "      },\n",
      "      {\n",
      "        \"identifier\": \"UMLS:C0543859\"\n",
      "      },\n",
      "      {\n",
      "        \"identifier\": \"UMLS:C0002736\"\n",
      "      },\n",
      "      {\n",
      "        \"identifier\": \"MESH:D000690\"\n",
      "      },\n",
      "      {\n",
      "        \"identifier\": \"MEDDRA:10002026\"\n",
      "      },\n",
      "      {\n",
      "        \"identifier\": \"NCIT:C34373\"\n",
      "      },\n",
      "      {\n",
      "        \"identifier\": \"SNOMEDCT:230258005\"\n",
      "      },\n",
      "      {\n",
      "        \"identifier\": \"SNOMEDCT:86044005\"\n",
      "      },\n",
      "      {\n",
      "        \"identifier\": \"HP:0007354\",\n",
      "        \"label\": \"Amyotrophic lateral sclerosis\"\n",
      "      }\n",
      "    ],\n",
      "    \"type\": [\n",
      "      \"biolink:Disease\",\n",
      "      \"biolink:NamedThing\",\n",
      "      \"biolink:BiologicalEntity\",\n",
      "      \"biolink:DiseaseOrPhenotypicFeature\"\n",
      "    ]\n",
      "  },\n",
      "  \"HGNC:613\": {\n",
      "    \"id\": {\n",
      "      \"identifier\": \"NCBIGene:348\",\n",
      "      \"label\": \"APOE\"\n",
      "    },\n",
      "    \"equivalent_identifiers\": [\n",
      "      {\n",
      "        \"identifier\": \"NCBIGene:348\"\n",
      "      },\n",
      "      {\n",
      "        \"identifier\": \"ENSEMBL:ENSG00000130203\"\n",
      "      },\n",
      "      {\n",
      "        \"identifier\": \"HGNC:613\",\n",
      "        \"label\": \"APOE\"\n",
      "      },\n",
      "      {\n",
      "        \"identifier\": \"UniProtKB:P02649\"\n",
      "      }\n",
      "    ],\n",
      "    \"type\": [\n",
      "      \"biolink:Gene\",\n",
      "      \"biolink:NamedThing\",\n",
      "      \"biolink:BiologicalEntity\",\n",
      "      \"biolink:MolecularEntity\",\n",
      "      \"biolink:GenomicEntity\",\n",
      "      \"biolink:MacromolecularMachine\",\n",
      "      \"biolink:GeneOrGeneProduct\"\n",
      "    ]\n",
      "  },\n",
      "  \"CURIE:NOTHING\": null\n",
      "}\n"
     ]
    }
   ],
   "source": [
    "result = requests.post('https://nodenormalization-sri.renci.org/get_normalized_nodes',\n",
    "                     json={\"curies\":[\"HP:0007354\", \"HGNC:613\", \"CURIE:NOTHING\"]})\n",
    "print( json.dumps( result.json(), indent = 2))"
   ]
  },
  {
   "cell_type": "markdown",
   "metadata": {},
   "source": [
    "## TRAPI"
   ]
  },
  {
   "cell_type": "markdown",
   "metadata": {},
   "source": [
    "Node normalization will now operate on TRAPI messages (version 1.0)"
   ]
  },
  {
   "cell_type": "code",
   "execution_count": 12,
   "metadata": {},
   "outputs": [],
   "source": [
    "trapi_message = {\n",
    "  \"query_graph\": {\n",
    "    \"nodes\": {\n",
    "      \"n1\": {\n",
    "        \"id\": \"HGNC:11603\",\n",
    "        \"category\": [\n",
    "          \"biolink:Gene\"\n",
    "        ]\n",
    "      },\n",
    "      \"n2\": {\n",
    "        \"id\": \"NCBIGene:9496\",\n",
    "        \"category\": [\n",
    "          \"biolink:Gene\"\n",
    "        ]\n",
    "      },\n",
    "      \"n3\": {\n",
    "        \"id\": \"MONDO:0005002\",\n",
    "        \"category\": [\n",
    "          \"biolink:Disease\"\n",
    "        ]\n",
    "      },\n",
    "      \"n4\": {\n",
    "        \"id\": \"DOID:3083\",\n",
    "        \"category\": [\n",
    "          \"biolink:Disease\"\n",
    "        ]\n",
    "      },\n",
    "      \"n5\": {\n",
    "        \"category\": [\n",
    "          \"biolink:Disease\"\n",
    "        ]\n",
    "      }\n",
    "    },\n",
    "    \"edges\": {\n",
    "      \"e1\": {\n",
    "        \"subject\": \"n1\",\n",
    "        \"object\": \"n3\"\n",
    "      },\n",
    "      \"e2\": {\n",
    "        \"subject\": \"n2\",\n",
    "        \"object\": \"n4\",\n",
    "        \"predicate\": \"biolink:related_to\"\n",
    "      },\n",
    "      \"e3\": {\n",
    "        \"subject\": \"n1\",\n",
    "        \"object\": \"n5\"\n",
    "      }\n",
    "    }\n",
    "  },\n",
    "  \"knowledge_graph\": {\n",
    "    \"nodes\": {\n",
    "      \"HGNC:11603\": {\n",
    "        \"name\": \"TBX4\",\n",
    "        \"category\": [\n",
    "          \"biolink:Gene\"\n",
    "        ]\n",
    "      },\n",
    "      \"NCBIGene:9496\": {\n",
    "        \"name\": \"T-box transcription factor 4\",\n",
    "        \"category\": [\n",
    "          \"biolink:Gene\"\n",
    "        ]\n",
    "      },\n",
    "      \"MONDO:0005002\": {\n",
    "        \"name\": \"chronic obstructive pulmonary disease\",\n",
    "        \"category\": [\n",
    "          \"biolink:Disease\"\n",
    "        ]\n",
    "      },\n",
    "      \"DOID:3083\": {\n",
    "        \"name\": \"chronic obstructive pulmonary disease\",\n",
    "        \"category\": [\n",
    "          \"biolink:Disease\"\n",
    "        ]\n",
    "      },\n",
    "      \"UMLS:CN202575\": {\n",
    "        \"name\": \"heritable pulmonary arterial hypertension\",\n",
    "        \"category\": [\n",
    "          \"biolink:Disease\"\n",
    "        ]\n",
    "      }\n",
    "    },\n",
    "    \"edges\": {\n",
    "      \"a8575c4e-61a6-428a-bf09-fcb3e8d1644d\": {\n",
    "        \"subject\": \"HGNC:11603\",\n",
    "        \"object\": \"MONDO:0005002\",\n",
    "        \"predicate\": \"biolink:related_to\",\n",
    "        \"relation\": \"RO:0003304\"\n",
    "      },\n",
    "      \"2d38345a-e9bf-4943-accb-dccba351dd04\": {\n",
    "        \"subject\": \"NCBIGene:9496\",\n",
    "        \"object\": \"DOID:3083\",\n",
    "        \"predicate\": \"biolink:related_to\",\n",
    "        \"relation\": \"RO:0003304\"\n",
    "      },\n",
    "      \"044a7916-fba9-4b4f-ae48-f0815b0b222d\": {\n",
    "        \"subject\": \"HGNC:11603\",\n",
    "        \"object\": \"UMLS:CN202575\",\n",
    "        \"predicate\": \"biolink:related_to\",\n",
    "        \"relation\": \"RO:0004013\"\n",
    "      }\n",
    "    }\n",
    "  },\n",
    "  \"results\": [\n",
    "    {\n",
    "      \"node_bindings\": {\n",
    "        \"n1\": [\n",
    "          {\n",
    "            \"id\": \"HGNC:11603\"\n",
    "          }\n",
    "        ],\n",
    "        \"n3\": [\n",
    "          {\n",
    "            \"id\": \"MONDO:0005002\"\n",
    "          }\n",
    "        ]\n",
    "      },\n",
    "      \"edge_bindings\": {\n",
    "        \"e1\": [\n",
    "          {\n",
    "            \"id\": \"a8575c4e-61a6-428a-bf09-fcb3e8d1644d\"\n",
    "          }\n",
    "        ]\n",
    "      }\n",
    "    },\n",
    "    {\n",
    "      \"node_bindings\": {\n",
    "        \"n2\": [\n",
    "          {\n",
    "            \"id\": \"NCBIGene:9496\"\n",
    "          }\n",
    "        ],\n",
    "        \"n4\": [\n",
    "          {\n",
    "            \"id\": \"DOID:3083\"\n",
    "          }\n",
    "        ]\n",
    "      },\n",
    "      \"edge_bindings\": {\n",
    "        \"e2\": [\n",
    "          {\n",
    "            \"id\": \"2d38345a-e9bf-4943-accb-dccba351dd04\"\n",
    "          }\n",
    "        ]\n",
    "      }\n",
    "    },\n",
    "    {\n",
    "      \"node_bindings\": {\n",
    "        \"n1\": [\n",
    "          {\n",
    "            \"id\": \"HGNC:11603\"\n",
    "          }\n",
    "        ],\n",
    "        \"n5\": [\n",
    "          {\n",
    "            \"id\": \"UMLS:CN202575\"\n",
    "          }\n",
    "        ]\n",
    "      },\n",
    "      \"edge_bindings\": {\n",
    "        \"e3\": [\n",
    "          {\n",
    "            \"id\": \"044a7916-fba9-4b4f-ae48-f0815b0b222d\"\n",
    "          }\n",
    "        ]\n",
    "      }\n",
    "    }\n",
    "  ]\n",
    "}"
   ]
  },
  {
   "cell_type": "code",
   "execution_count": 16,
   "metadata": {},
   "outputs": [
    {
     "name": "stdout",
     "output_type": "stream",
     "text": [
      "500\n"
     ]
    },
    {
     "ename": "JSONDecodeError",
     "evalue": "Expecting value: line 1 column 1 (char 0)",
     "output_type": "error",
     "traceback": [
      "\u001b[0;31m---------------------------------------------------------------------------\u001b[0m",
      "\u001b[0;31mJSONDecodeError\u001b[0m                           Traceback (most recent call last)",
      "\u001b[0;32m<ipython-input-16-da0692fbc2bd>\u001b[0m in \u001b[0;36m<module>\u001b[0;34m\u001b[0m\n\u001b[1;32m      1\u001b[0m \u001b[0mresult\u001b[0m \u001b[0;34m=\u001b[0m \u001b[0mrequests\u001b[0m\u001b[0;34m.\u001b[0m\u001b[0mpost\u001b[0m\u001b[0;34m(\u001b[0m\u001b[0;34m'https://nodenormalization-sri.renci.org/message'\u001b[0m\u001b[0;34m,\u001b[0m\u001b[0mjson\u001b[0m\u001b[0;34m=\u001b[0m\u001b[0mtrapi_message\u001b[0m\u001b[0;34m)\u001b[0m\u001b[0;34m\u001b[0m\u001b[0;34m\u001b[0m\u001b[0m\n\u001b[1;32m      2\u001b[0m \u001b[0mprint\u001b[0m\u001b[0;34m(\u001b[0m\u001b[0mresult\u001b[0m\u001b[0;34m.\u001b[0m\u001b[0mstatus_code\u001b[0m\u001b[0;34m)\u001b[0m\u001b[0;34m\u001b[0m\u001b[0;34m\u001b[0m\u001b[0m\n\u001b[0;32m----> 3\u001b[0;31m \u001b[0mprint\u001b[0m\u001b[0;34m(\u001b[0m \u001b[0mjson\u001b[0m\u001b[0;34m.\u001b[0m\u001b[0mdumps\u001b[0m\u001b[0;34m(\u001b[0m \u001b[0mresult\u001b[0m\u001b[0;34m.\u001b[0m\u001b[0mjson\u001b[0m\u001b[0;34m(\u001b[0m\u001b[0;34m)\u001b[0m\u001b[0;34m,\u001b[0m \u001b[0mindent\u001b[0m \u001b[0;34m=\u001b[0m \u001b[0;36m2\u001b[0m\u001b[0;34m)\u001b[0m\u001b[0;34m)\u001b[0m\u001b[0;34m\u001b[0m\u001b[0;34m\u001b[0m\u001b[0m\n\u001b[0m",
      "\u001b[0;32m/opt/anaconda3/envs/translator/lib/python3.8/site-packages/requests/models.py\u001b[0m in \u001b[0;36mjson\u001b[0;34m(self, **kwargs)\u001b[0m\n\u001b[1;32m    896\u001b[0m                     \u001b[0;31m# used.\u001b[0m\u001b[0;34m\u001b[0m\u001b[0;34m\u001b[0m\u001b[0;34m\u001b[0m\u001b[0m\n\u001b[1;32m    897\u001b[0m                     \u001b[0;32mpass\u001b[0m\u001b[0;34m\u001b[0m\u001b[0;34m\u001b[0m\u001b[0m\n\u001b[0;32m--> 898\u001b[0;31m         \u001b[0;32mreturn\u001b[0m \u001b[0mcomplexjson\u001b[0m\u001b[0;34m.\u001b[0m\u001b[0mloads\u001b[0m\u001b[0;34m(\u001b[0m\u001b[0mself\u001b[0m\u001b[0;34m.\u001b[0m\u001b[0mtext\u001b[0m\u001b[0;34m,\u001b[0m \u001b[0;34m**\u001b[0m\u001b[0mkwargs\u001b[0m\u001b[0;34m)\u001b[0m\u001b[0;34m\u001b[0m\u001b[0;34m\u001b[0m\u001b[0m\n\u001b[0m\u001b[1;32m    899\u001b[0m \u001b[0;34m\u001b[0m\u001b[0m\n\u001b[1;32m    900\u001b[0m     \u001b[0;34m@\u001b[0m\u001b[0mproperty\u001b[0m\u001b[0;34m\u001b[0m\u001b[0;34m\u001b[0m\u001b[0m\n",
      "\u001b[0;32m/opt/anaconda3/envs/translator/lib/python3.8/json/__init__.py\u001b[0m in \u001b[0;36mloads\u001b[0;34m(s, cls, object_hook, parse_float, parse_int, parse_constant, object_pairs_hook, **kw)\u001b[0m\n\u001b[1;32m    355\u001b[0m             \u001b[0mparse_int\u001b[0m \u001b[0;32mis\u001b[0m \u001b[0;32mNone\u001b[0m \u001b[0;32mand\u001b[0m \u001b[0mparse_float\u001b[0m \u001b[0;32mis\u001b[0m \u001b[0;32mNone\u001b[0m \u001b[0;32mand\u001b[0m\u001b[0;34m\u001b[0m\u001b[0;34m\u001b[0m\u001b[0m\n\u001b[1;32m    356\u001b[0m             parse_constant is None and object_pairs_hook is None and not kw):\n\u001b[0;32m--> 357\u001b[0;31m         \u001b[0;32mreturn\u001b[0m \u001b[0m_default_decoder\u001b[0m\u001b[0;34m.\u001b[0m\u001b[0mdecode\u001b[0m\u001b[0;34m(\u001b[0m\u001b[0ms\u001b[0m\u001b[0;34m)\u001b[0m\u001b[0;34m\u001b[0m\u001b[0;34m\u001b[0m\u001b[0m\n\u001b[0m\u001b[1;32m    358\u001b[0m     \u001b[0;32mif\u001b[0m \u001b[0mcls\u001b[0m \u001b[0;32mis\u001b[0m \u001b[0;32mNone\u001b[0m\u001b[0;34m:\u001b[0m\u001b[0;34m\u001b[0m\u001b[0;34m\u001b[0m\u001b[0m\n\u001b[1;32m    359\u001b[0m         \u001b[0mcls\u001b[0m \u001b[0;34m=\u001b[0m \u001b[0mJSONDecoder\u001b[0m\u001b[0;34m\u001b[0m\u001b[0;34m\u001b[0m\u001b[0m\n",
      "\u001b[0;32m/opt/anaconda3/envs/translator/lib/python3.8/json/decoder.py\u001b[0m in \u001b[0;36mdecode\u001b[0;34m(self, s, _w)\u001b[0m\n\u001b[1;32m    335\u001b[0m \u001b[0;34m\u001b[0m\u001b[0m\n\u001b[1;32m    336\u001b[0m         \"\"\"\n\u001b[0;32m--> 337\u001b[0;31m         \u001b[0mobj\u001b[0m\u001b[0;34m,\u001b[0m \u001b[0mend\u001b[0m \u001b[0;34m=\u001b[0m \u001b[0mself\u001b[0m\u001b[0;34m.\u001b[0m\u001b[0mraw_decode\u001b[0m\u001b[0;34m(\u001b[0m\u001b[0ms\u001b[0m\u001b[0;34m,\u001b[0m \u001b[0midx\u001b[0m\u001b[0;34m=\u001b[0m\u001b[0m_w\u001b[0m\u001b[0;34m(\u001b[0m\u001b[0ms\u001b[0m\u001b[0;34m,\u001b[0m \u001b[0;36m0\u001b[0m\u001b[0;34m)\u001b[0m\u001b[0;34m.\u001b[0m\u001b[0mend\u001b[0m\u001b[0;34m(\u001b[0m\u001b[0;34m)\u001b[0m\u001b[0;34m)\u001b[0m\u001b[0;34m\u001b[0m\u001b[0;34m\u001b[0m\u001b[0m\n\u001b[0m\u001b[1;32m    338\u001b[0m         \u001b[0mend\u001b[0m \u001b[0;34m=\u001b[0m \u001b[0m_w\u001b[0m\u001b[0;34m(\u001b[0m\u001b[0ms\u001b[0m\u001b[0;34m,\u001b[0m \u001b[0mend\u001b[0m\u001b[0;34m)\u001b[0m\u001b[0;34m.\u001b[0m\u001b[0mend\u001b[0m\u001b[0;34m(\u001b[0m\u001b[0;34m)\u001b[0m\u001b[0;34m\u001b[0m\u001b[0;34m\u001b[0m\u001b[0m\n\u001b[1;32m    339\u001b[0m         \u001b[0;32mif\u001b[0m \u001b[0mend\u001b[0m \u001b[0;34m!=\u001b[0m \u001b[0mlen\u001b[0m\u001b[0;34m(\u001b[0m\u001b[0ms\u001b[0m\u001b[0;34m)\u001b[0m\u001b[0;34m:\u001b[0m\u001b[0;34m\u001b[0m\u001b[0;34m\u001b[0m\u001b[0m\n",
      "\u001b[0;32m/opt/anaconda3/envs/translator/lib/python3.8/json/decoder.py\u001b[0m in \u001b[0;36mraw_decode\u001b[0;34m(self, s, idx)\u001b[0m\n\u001b[1;32m    353\u001b[0m             \u001b[0mobj\u001b[0m\u001b[0;34m,\u001b[0m \u001b[0mend\u001b[0m \u001b[0;34m=\u001b[0m \u001b[0mself\u001b[0m\u001b[0;34m.\u001b[0m\u001b[0mscan_once\u001b[0m\u001b[0;34m(\u001b[0m\u001b[0ms\u001b[0m\u001b[0;34m,\u001b[0m \u001b[0midx\u001b[0m\u001b[0;34m)\u001b[0m\u001b[0;34m\u001b[0m\u001b[0;34m\u001b[0m\u001b[0m\n\u001b[1;32m    354\u001b[0m         \u001b[0;32mexcept\u001b[0m \u001b[0mStopIteration\u001b[0m \u001b[0;32mas\u001b[0m \u001b[0merr\u001b[0m\u001b[0;34m:\u001b[0m\u001b[0;34m\u001b[0m\u001b[0;34m\u001b[0m\u001b[0m\n\u001b[0;32m--> 355\u001b[0;31m             \u001b[0;32mraise\u001b[0m \u001b[0mJSONDecodeError\u001b[0m\u001b[0;34m(\u001b[0m\u001b[0;34m\"Expecting value\"\u001b[0m\u001b[0;34m,\u001b[0m \u001b[0ms\u001b[0m\u001b[0;34m,\u001b[0m \u001b[0merr\u001b[0m\u001b[0;34m.\u001b[0m\u001b[0mvalue\u001b[0m\u001b[0;34m)\u001b[0m \u001b[0;32mfrom\u001b[0m \u001b[0;32mNone\u001b[0m\u001b[0;34m\u001b[0m\u001b[0;34m\u001b[0m\u001b[0m\n\u001b[0m\u001b[1;32m    356\u001b[0m         \u001b[0;32mreturn\u001b[0m \u001b[0mobj\u001b[0m\u001b[0;34m,\u001b[0m \u001b[0mend\u001b[0m\u001b[0;34m\u001b[0m\u001b[0;34m\u001b[0m\u001b[0m\n",
      "\u001b[0;31mJSONDecodeError\u001b[0m: Expecting value: line 1 column 1 (char 0)"
     ]
    }
   ],
   "source": [
    "result = requests.post('https://nodenormalization-sri.renci.org/message',json=trapi_message)\n",
    "print(result.status_code)\n",
    "print( json.dumps( result.json(), indent = 2))"
   ]
  },
  {
   "cell_type": "code",
   "execution_count": null,
   "metadata": {},
   "outputs": [],
   "source": []
  }
 ],
 "metadata": {
  "kernelspec": {
   "display_name": "Python 3",
   "language": "python",
   "name": "python3"
  },
  "language_info": {
   "codemirror_mode": {
    "name": "ipython",
    "version": 3
   },
   "file_extension": ".py",
   "mimetype": "text/x-python",
   "name": "python",
   "nbconvert_exporter": "python",
   "pygments_lexer": "ipython3",
   "version": "3.8.5"
  }
 },
 "nbformat": 4,
 "nbformat_minor": 4
}
