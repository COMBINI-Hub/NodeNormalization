{
 "cells": [
  {
   "cell_type": "markdown",
   "metadata": {
    "slideshow": {
     "slide_type": "slide"
    }
   },
   "source": [
    "# NodeNormalization"
   ]
  },
  {
   "cell_type": "markdown",
   "metadata": {
    "slideshow": {
     "slide_type": "slide"
    }
   },
   "source": [
    "## Introduction\n",
    "\n",
    "[Node normalization](https://nodenormalization-sri.renci.org/apidocs) takes a CURIE, and returns:\n",
    "\n",
    "* The preferred CURIE for this entity\n",
    "* All other known equivalent identifiers for the entity\n",
    "* Semantic types for the entity as defined by the [Biolink Model](https://biolink.github.io/biolink-model/)\n",
    "\n",
    "The data currently served by Node Normalization is created by the prototype project [Babel](https://github.com/TranslatorIIPrototypes/Babel), which attempts to find identifier equivalences, and makes sure that CURIE prefixes are Biolink Model compliant.  NodeNormalization, however, is independent of Babel and as improved identifier equivalence tools are developed, their results can be easily incorporated."
   ]
  },
  {
   "cell_type": "markdown",
   "metadata": {
    "slideshow": {
     "slide_type": "slide"
    }
   },
   "source": [
    "## Metadata\n",
    "\n",
    "There are two metadata services that can be used to find out what sorts of results have been incorporated into NodeNormalization.  These return the semantic types that are included, and the prefixes included for each type."
   ]
  },
  {
   "cell_type": "markdown",
   "metadata": {
    "slideshow": {
     "slide_type": "slide"
    }
   },
   "source": [
    "Which types have been normalized?"
   ]
  },
  {
   "cell_type": "code",
   "execution_count": null,
   "metadata": {
    "slideshow": {
     "slide_type": "subslide"
    }
   },
   "outputs": [],
   "source": [
    "import json \n",
    "import requests\n",
    "\n",
    "result = requests.get('https://nodenormalization-sri.renci.org/get_semantic_types')\n",
    "print( json.dumps( result.json(), indent = 2))"
   ]
  },
  {
   "cell_type": "markdown",
   "metadata": {
    "slideshow": {
     "slide_type": "slide"
    }
   },
   "source": [
    "Even if a semantic type has some identifier equivalence, not every vocabulary has been included.  To see which vocabularies are likely to give useful results, call:"
   ]
  },
  {
   "cell_type": "code",
   "execution_count": null,
   "metadata": {
    "slideshow": {
     "slide_type": "subslide"
    }
   },
   "outputs": [],
   "source": [
    "result = requests.get('https://nodenormalization-sri.renci.org/get_curie_prefixes/',\n",
    "                     params={'semantictype':\"chemical_substance\"})\n",
    "print( json.dumps( result.json(), indent = 2))"
   ]
  },
  {
   "cell_type": "markdown",
   "metadata": {
    "slideshow": {
     "slide_type": "skip"
    }
   },
   "source": [
    "More than one type can be queried:"
   ]
  },
  {
   "cell_type": "code",
   "execution_count": null,
   "metadata": {
    "slideshow": {
     "slide_type": "skip"
    }
   },
   "outputs": [],
   "source": [
    "result = requests.get('https://nodenormalization-sri.renci.org/get_curie_prefixes/',\n",
    "                     params={'semantictype':[\"chemical_substance\",\"disease\"]})\n",
    "print( json.dumps( result.json(), indent = 2))"
   ]
  },
  {
   "cell_type": "markdown",
   "metadata": {
    "slideshow": {
     "slide_type": "slide"
    }
   },
   "source": [
    "## Normalization"
   ]
  },
  {
   "cell_type": "markdown",
   "metadata": {
    "slideshow": {
     "slide_type": "subslide"
    }
   },
   "source": [
    "Given one or more Compact URIs (CURIES), `get_normalized_node` will return a list of equivalent identifiers for the entity, along with the Translator-preferred identifier, and the semantic type(s) for the entity.  This service is merely returning pre-computed values, and does no equivalence inference on its own.  If a CURIE is unknown to it, then null is returned."
   ]
  },
  {
   "cell_type": "markdown",
   "metadata": {
    "slideshow": {
     "slide_type": "slide"
    }
   },
   "source": [
    "In this example, `get_normalized_node` is called with a MeSH identifier.   MeSH contains many different semantic types, but the service correctly identifies the term."
   ]
  },
  {
   "cell_type": "code",
   "execution_count": null,
   "metadata": {
    "scrolled": true,
    "slideshow": {
     "slide_type": "subslide"
    }
   },
   "outputs": [],
   "source": [
    "result = requests.get('https://nodenormalization-sri.renci.org/get_normalized_nodes',\n",
    "                     params={'curie':\"MESH:D014867\"})\n",
    "print( json.dumps( result.json(), indent = 2))"
   ]
  },
  {
   "cell_type": "markdown",
   "metadata": {
    "slideshow": {
     "slide_type": "slide"
    }
   },
   "source": [
    "To improve performance, multiple CURIEs may be batched into a single function call:"
   ]
  },
  {
   "cell_type": "code",
   "execution_count": 18,
   "metadata": {
    "scrolled": true,
    "slideshow": {
     "slide_type": "subslide"
    }
   },
   "outputs": [
    {
     "name": "stdout",
     "output_type": "stream",
     "text": [
      "{\n",
      "  \"HP:0007354\": {\n",
      "    \"id\": {\n",
      "      \"identifier\": \"MONDO:0004976\",\n",
      "      \"label\": \"amyotrophic lateral sclerosis\"\n",
      "    },\n",
      "    \"equivalent_identifiers\": [\n",
      "      {\n",
      "        \"identifier\": \"MONDO:0004976\",\n",
      "        \"label\": \"amyotrophic lateral sclerosis\"\n",
      "      },\n",
      "      {\n",
      "        \"identifier\": \"DOID:332\"\n",
      "      },\n",
      "      {\n",
      "        \"identifier\": \"ORPHANET:803\"\n",
      "      },\n",
      "      {\n",
      "        \"identifier\": \"UMLS:C0393554\"\n",
      "      },\n",
      "      {\n",
      "        \"identifier\": \"UMLS:C0002736\"\n",
      "      },\n",
      "      {\n",
      "        \"identifier\": \"UMLS:C0543859\"\n",
      "      },\n",
      "      {\n",
      "        \"identifier\": \"MESH:D000690\"\n",
      "      },\n",
      "      {\n",
      "        \"identifier\": \"MEDDRA:10002026\"\n",
      "      },\n",
      "      {\n",
      "        \"identifier\": \"NCIT:C34373\"\n",
      "      },\n",
      "      {\n",
      "        \"identifier\": \"SNOMEDCT:230258005\"\n",
      "      },\n",
      "      {\n",
      "        \"identifier\": \"SNOMEDCT:86044005\"\n",
      "      },\n",
      "      {\n",
      "        \"identifier\": \"HP:0007354\",\n",
      "        \"label\": \"Amyotrophic lateral sclerosis\"\n",
      "      }\n",
      "    ],\n",
      "    \"type\": [\n",
      "      \"disease\",\n",
      "      \"disease_or_phenotypic_feature\",\n",
      "      \"biological_entity\",\n",
      "      \"named_thing\"\n",
      "    ]\n",
      "  },\n",
      "  \"HGNC:613\": {\n",
      "    \"id\": {\n",
      "      \"identifier\": \"NCBIGene:348\",\n",
      "      \"label\": \"APOE\"\n",
      "    },\n",
      "    \"equivalent_identifiers\": [\n",
      "      {\n",
      "        \"identifier\": \"NCBIGene:348\"\n",
      "      },\n",
      "      {\n",
      "        \"identifier\": \"ENSEMBL:ENSG00000130203\"\n",
      "      },\n",
      "      {\n",
      "        \"identifier\": \"HGNC:613\",\n",
      "        \"label\": \"APOE\"\n",
      "      },\n",
      "      {\n",
      "        \"identifier\": \"UniProtKB:P02649\"\n",
      "      }\n",
      "    ],\n",
      "    \"type\": [\n",
      "      \"gene\",\n",
      "      \"gene_or_gene_product\",\n",
      "      \"macromolecular_machine\",\n",
      "      \"genomic_entity\",\n",
      "      \"molecular_entity\",\n",
      "      \"biological_entity\",\n",
      "      \"named_thing\"\n",
      "    ]\n",
      "  },\n",
      "  \"CURIE:NOTHING\": null\n",
      "}\n"
     ]
    }
   ],
   "source": [
    "result = requests.get('https://nodenormalization-sri.renci.org/get_normalized_nodes',\n",
    "                     params={'curie':[\"HP:0007354\", \"HGNC:613\", \"CURIE:NOTHING\"]})\n",
    "print( json.dumps( result.json(), indent = 2))"
   ]
  }
 ],
 "metadata": {
  "celltoolbar": "Slideshow",
  "kernelspec": {
   "display_name": "Python 3",
   "language": "python",
   "name": "python3"
  },
  "language_info": {
   "codemirror_mode": {
    "name": "ipython",
    "version": 3
   },
   "file_extension": ".py",
   "mimetype": "text/x-python",
   "name": "python",
   "nbconvert_exporter": "python",
   "pygments_lexer": "ipython3",
   "version": "3.7.5"
  }
 },
 "nbformat": 4,
 "nbformat_minor": 4
}
