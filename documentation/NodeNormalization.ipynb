{
 "cells": [
  {
   "cell_type": "markdown",
   "metadata": {
    "slideshow": {
     "slide_type": "slide"
    }
   },
   "source": [
    "# NodeNormalization"
   ]
  },
  {
   "cell_type": "markdown",
   "metadata": {
    "slideshow": {
     "slide_type": "slide"
    }
   },
   "source": [
    "## Introduction\n",
    "\n",
    "[Node normalization](https://nodenormalization-sri.renci.org/apidocs) takes a CURIE, and returns:\n",
    "\n",
    "* The preferred CURIE for this entity\n",
    "* All other known equivalent identifiers for the entity\n",
    "* Semantic types for the entity as defined by the [Biolink Model](https://biolink.github.io/biolink-model/)\n",
    "\n",
    "The data currently served by Node Normalization is created by the prototype project [Babel](https://github.com/TranslatorIIPrototypes/Babel), which attempts to find identifier equivalences, and makes sure that CURIE prefixes are Biolink Model compliant.  NodeNormalization, however, is independent of Babel and as improved identifier equivalence tools are developed, their results can be easily incorporated."
   ]
  },
  {
   "cell_type": "markdown",
   "metadata": {
    "slideshow": {
     "slide_type": "slide"
    }
   },
   "source": [
    "## Metadata\n",
    "\n",
    "There are two metadata services that can be used to find out what sorts of results have been incorporated into NodeNormalization.  These return the semantic types that are included, and the prefixes included for each type."
   ]
  },
  {
   "cell_type": "markdown",
   "metadata": {
    "slideshow": {
     "slide_type": "slide"
    }
   },
   "source": [
    "Which types have been normalized?"
   ]
  },
  {
   "cell_type": "code",
   "execution_count": 14,
   "metadata": {
    "slideshow": {
     "slide_type": "subslide"
    }
   },
   "outputs": [
    {
     "name": "stdout",
     "output_type": "stream",
     "text": [
      "{\n",
      "  \"semantic_types\": {\n",
      "    \"types\": [\n",
      "      \"biolink:Entity\",\n",
      "      \"biolink:ChemicalSubstance\",\n",
      "      \"biolink:OntologyClass\",\n",
      "      \"biolink:MolecularEntity\",\n",
      "      \"biolink:AnatomicalEntity\",\n",
      "      \"biolink:GenomicEntity\",\n",
      "      \"biolink:CellularComponent\",\n",
      "      \"biolink:GeneOrGeneProduct\",\n",
      "      \"biolink:PhenotypicFeature\",\n",
      "      \"biolink:BiologicalProcess\",\n",
      "      \"biolink:OrganismTaxon\",\n",
      "      \"biolink:GeneFamily\",\n",
      "      \"biolink:DiseaseOrPhenotypicFeature\",\n",
      "      \"biolink:Gene\",\n",
      "      \"biolink:BiologicalProcessOrActivity\",\n",
      "      \"biolink:OrganismalEntity\",\n",
      "      \"biolink:Disease\",\n",
      "      \"biolink:BiologicalEntity\",\n",
      "      \"biolink:MolecularActivity\",\n",
      "      \"biolink:MacromolecularMachine\",\n",
      "      \"biolink:Cell\",\n",
      "      \"biolink:NamedThing\",\n",
      "      \"biolink:Pathway\"\n",
      "    ]\n",
      "  }\n",
      "}\n"
     ]
    }
   ],
   "source": [
    "import json \n",
    "import requests\n",
    "\n",
    "result = requests.get('https://nodenormalization-sri.renci.org/get_semantic_types')\n",
    "print( json.dumps( result.json(), indent = 2))"
   ]
  },
  {
   "cell_type": "markdown",
   "metadata": {
    "slideshow": {
     "slide_type": "slide"
    }
   },
   "source": [
    "Even if a semantic type has some identifier equivalence, not every vocabulary has been included.  To see which vocabularies are likely to give useful results, call:"
   ]
  },
  {
   "cell_type": "code",
   "execution_count": 15,
   "metadata": {
    "slideshow": {
     "slide_type": "subslide"
    }
   },
   "outputs": [
    {
     "name": "stdout",
     "output_type": "stream",
     "text": [
      "{\n",
      "  \"biolink:ChemicalSubstance\": {\n",
      "    \"curie_prefix\": {\n",
      "      \"PUBCHEM.COMPOUND\": \"11267659\",\n",
      "      \"INCHIKEY\": \"11242068\",\n",
      "      \"CHEMBL.COMPOUND\": \"220593\",\n",
      "      \"MESH\": \"31843\",\n",
      "      \"HMDB\": \"13381\",\n",
      "      \"CHEBI\": \"14661\",\n",
      "      \"KEGG\": \"2182\",\n",
      "      \"UNII\": \"9744\",\n",
      "      \"gtpo\": \"984\",\n",
      "      \"DRUGBANK\": \"1261\"\n",
      "    }\n",
      "  }\n",
      "}\n"
     ]
    }
   ],
   "source": [
    "result = requests.get('https://nodenormalization-sri.renci.org/get_curie_prefixes/',\n",
    "                     params={'semantic_type':\"biolink:ChemicalSubstance\"})\n",
    "print( json.dumps( result.json(), indent = 2))"
   ]
  },
  {
   "cell_type": "markdown",
   "metadata": {
    "slideshow": {
     "slide_type": "skip"
    }
   },
   "source": [
    "More than one type can be queried:"
   ]
  },
  {
   "cell_type": "code",
   "execution_count": 16,
   "metadata": {
    "slideshow": {
     "slide_type": "skip"
    }
   },
   "outputs": [
    {
     "name": "stdout",
     "output_type": "stream",
     "text": [
      "{\n",
      "  \"biolink:ChemicalSubstance\": {\n",
      "    \"curie_prefix\": {\n",
      "      \"PUBCHEM.COMPOUND\": \"11267659\",\n",
      "      \"INCHIKEY\": \"11242068\",\n",
      "      \"CHEMBL.COMPOUND\": \"220593\",\n",
      "      \"MESH\": \"31843\",\n",
      "      \"HMDB\": \"13381\",\n",
      "      \"CHEBI\": \"14661\",\n",
      "      \"KEGG\": \"2182\",\n",
      "      \"UNII\": \"9744\",\n",
      "      \"gtpo\": \"984\",\n",
      "      \"DRUGBANK\": \"1261\"\n",
      "    }\n",
      "  },\n",
      "  \"biolink:Disease\": {\n",
      "    \"curie_prefix\": {\n",
      "      \"UMLS\": \"109600\",\n",
      "      \"SNOMEDCT\": \"75365\",\n",
      "      \"NCIT\": \"18041\",\n",
      "      \"MEDDRA\": \"10946\",\n",
      "      \"MONDO\": \"22251\",\n",
      "      \"DOID\": \"8995\",\n",
      "      \"OMIM\": \"8762\",\n",
      "      \"ORPHANET\": \"9182\",\n",
      "      \"MESH\": \"10636\",\n",
      "      \"HP\": \"1834\",\n",
      "      \"EFO\": \"1914\",\n",
      "      \"medgen\": \"3\",\n",
      "      \"ICD10\": \"12\",\n",
      "      \"ICD9\": \"5\",\n",
      "      \"MP\": \"2\"\n",
      "    }\n",
      "  }\n",
      "}\n"
     ]
    }
   ],
   "source": [
    "result = requests.get('https://nodenormalization-sri.renci.org/get_curie_prefixes/',\n",
    "                     params={'semantic_type':[\"biolink:ChemicalSubstance\",\"biolink:Disease\"]})\n",
    "print( json.dumps( result.json(), indent = 2))"
   ]
  },
  {
   "cell_type": "markdown",
   "metadata": {
    "slideshow": {
     "slide_type": "slide"
    }
   },
   "source": [
    "## Normalization"
   ]
  },
  {
   "cell_type": "markdown",
   "metadata": {
    "slideshow": {
     "slide_type": "subslide"
    }
   },
   "source": [
    "Given one or more Compact URIs (CURIES), `get_normalized_node` will return a list of equivalent identifiers for the entity, along with the Translator-preferred identifier, and the semantic type(s) for the entity.  This service is merely returning pre-computed values, and does no equivalence inference on its own.  If a CURIE is unknown to it, then null is returned."
   ]
  },
  {
   "cell_type": "markdown",
   "metadata": {
    "slideshow": {
     "slide_type": "slide"
    }
   },
   "source": [
    "In this example, `get_normalized_node` is called with a MeSH identifier.   MeSH contains many different semantic types, but the service correctly identifies the term."
   ]
  },
  {
   "cell_type": "code",
   "execution_count": 17,
   "metadata": {
    "scrolled": true,
    "slideshow": {
     "slide_type": "subslide"
    }
   },
   "outputs": [
    {
     "name": "stdout",
     "output_type": "stream",
     "text": [
      "{\n",
      "  \"MESH:D014867\": {\n",
      "    \"id\": {\n",
      "      \"identifier\": \"CHEBI:15377\",\n",
      "      \"label\": \"water\"\n",
      "    },\n",
      "    \"equivalent_identifiers\": [\n",
      "      {\n",
      "        \"identifier\": \"CHEBI:15377\",\n",
      "        \"label\": \"water\"\n",
      "      },\n",
      "      {\n",
      "        \"identifier\": \"CHEMBL.COMPOUND:CHEMBL1098659\",\n",
      "        \"label\": \"WATER\"\n",
      "      },\n",
      "      {\n",
      "        \"identifier\": \"DRUGBANK:DB09145\"\n",
      "      },\n",
      "      {\n",
      "        \"identifier\": \"PUBCHEM.COMPOUND:22247451\"\n",
      "      },\n",
      "      {\n",
      "        \"identifier\": \"PUBCHEM.COMPOUND:962\"\n",
      "      },\n",
      "      {\n",
      "        \"identifier\": \"MESH:D014867\",\n",
      "        \"label\": \"Water\"\n",
      "      },\n",
      "      {\n",
      "        \"identifier\": \"HMDB:HMDB0002111\"\n",
      "      },\n",
      "      {\n",
      "        \"identifier\": \"INCHIKEY:IKBQPNVYXHKVJS-LVZFUZTISA-N\"\n",
      "      },\n",
      "      {\n",
      "        \"identifier\": \"UNII:059QF0KO0R\"\n",
      "      },\n",
      "      {\n",
      "        \"identifier\": \"KEGG:C00001\",\n",
      "        \"label\": \"H2O\"\n",
      "      }\n",
      "    ],\n",
      "    \"type\": [\n",
      "      \"biolink:ChemicalSubstance\",\n",
      "      \"biolink:Entity\",\n",
      "      \"biolink:NamedThing\",\n",
      "      \"biolink:BiologicalEntity\",\n",
      "      \"biolink:MolecularEntity\"\n",
      "    ]\n",
      "  }\n",
      "}\n"
     ]
    }
   ],
   "source": [
    "result = requests.get('https://nodenormalization-sri.renci.org/get_normalized_nodes',\n",
    "                     params={'curie':\"MESH:D014867\"})\n",
    "print( json.dumps( result.json(), indent = 2))"
   ]
  },
  {
   "cell_type": "markdown",
   "metadata": {
    "slideshow": {
     "slide_type": "slide"
    }
   },
   "source": [
    "To improve performance, multiple CURIEs may be batched into a single function call as a POST:"
   ]
  },
  {
   "cell_type": "code",
   "execution_count": 18,
   "metadata": {
    "scrolled": true,
    "slideshow": {
     "slide_type": "subslide"
    }
   },
   "outputs": [
    {
     "name": "stdout",
     "output_type": "stream",
     "text": [
      "{\n",
      "  \"HP:0007354\": {\n",
      "    \"id\": {\n",
      "      \"identifier\": \"MONDO:0004976\",\n",
      "      \"label\": \"amyotrophic lateral sclerosis\"\n",
      "    },\n",
      "    \"equivalent_identifiers\": [\n",
      "      {\n",
      "        \"identifier\": \"MONDO:0004976\",\n",
      "        \"label\": \"amyotrophic lateral sclerosis\"\n",
      "      },\n",
      "      {\n",
      "        \"identifier\": \"DOID:332\"\n",
      "      },\n",
      "      {\n",
      "        \"identifier\": \"ORPHANET:803\"\n",
      "      },\n",
      "      {\n",
      "        \"identifier\": \"EFO:0000253\",\n",
      "        \"label\": \"amyotrophic lateral sclerosis\"\n",
      "      },\n",
      "      {\n",
      "        \"identifier\": \"UMLS:C0393554\"\n",
      "      },\n",
      "      {\n",
      "        \"identifier\": \"UMLS:C0543859\"\n",
      "      },\n",
      "      {\n",
      "        \"identifier\": \"UMLS:C0002736\"\n",
      "      },\n",
      "      {\n",
      "        \"identifier\": \"MESH:D000690\"\n",
      "      },\n",
      "      {\n",
      "        \"identifier\": \"MEDDRA:10002026\"\n",
      "      },\n",
      "      {\n",
      "        \"identifier\": \"NCIT:C34373\"\n",
      "      },\n",
      "      {\n",
      "        \"identifier\": \"SNOMEDCT:230258005\"\n",
      "      },\n",
      "      {\n",
      "        \"identifier\": \"SNOMEDCT:86044005\"\n",
      "      },\n",
      "      {\n",
      "        \"identifier\": \"HP:0007354\",\n",
      "        \"label\": \"Amyotrophic lateral sclerosis\"\n",
      "      }\n",
      "    ],\n",
      "    \"type\": [\n",
      "      \"biolink:Disease\",\n",
      "      \"biolink:NamedThing\",\n",
      "      \"biolink:BiologicalEntity\",\n",
      "      \"biolink:DiseaseOrPhenotypicFeature\"\n",
      "    ]\n",
      "  },\n",
      "  \"HGNC:613\": {\n",
      "    \"id\": {\n",
      "      \"identifier\": \"NCBIGene:348\",\n",
      "      \"label\": \"APOE\"\n",
      "    },\n",
      "    \"equivalent_identifiers\": [\n",
      "      {\n",
      "        \"identifier\": \"NCBIGene:348\"\n",
      "      },\n",
      "      {\n",
      "        \"identifier\": \"ENSEMBL:ENSG00000130203\"\n",
      "      },\n",
      "      {\n",
      "        \"identifier\": \"HGNC:613\",\n",
      "        \"label\": \"APOE\"\n",
      "      },\n",
      "      {\n",
      "        \"identifier\": \"UniProtKB:P02649\"\n",
      "      }\n",
      "    ],\n",
      "    \"type\": [\n",
      "      \"biolink:Gene\",\n",
      "      \"biolink:NamedThing\",\n",
      "      \"biolink:BiologicalEntity\",\n",
      "      \"biolink:MolecularEntity\",\n",
      "      \"biolink:GenomicEntity\",\n",
      "      \"biolink:MacromolecularMachine\",\n",
      "      \"biolink:GeneOrGeneProduct\"\n",
      "    ]\n",
      "  },\n",
      "  \"CURIE:NOTHING\": null\n",
      "}\n"
     ]
    }
   ],
   "source": [
    "result = requests.post('https://nodenormalization-sri.renci.org/get_normalized_nodes',\n",
    "                     json={\"curies\":[\"HP:0007354\", \"HGNC:613\", \"CURIE:NOTHING\"]})\n",
    "print( json.dumps( result.json(), indent = 2))"
   ]
  },
  {
   "cell_type": "markdown",
   "metadata": {},
   "source": [
    "## TRAPI"
   ]
  },
  {
   "cell_type": "markdown",
   "metadata": {},
   "source": [
    "Node normalization will now operate on TRAPI messages (version 1.0)"
   ]
  },
  {
   "cell_type": "code",
   "execution_count": 19,
   "metadata": {},
   "outputs": [
    {
     "ename": "FileNotFoundError",
     "evalue": "[Errno 2] No such file or directory: '../tests/resources/premerged_message.json'",
     "output_type": "error",
     "traceback": [
      "\u001b[0;31m---------------------------------------------------------------------------\u001b[0m",
      "\u001b[0;31mFileNotFoundError\u001b[0m                         Traceback (most recent call last)",
      "\u001b[0;32m<ipython-input-19-d0a18e7ae8b2>\u001b[0m in \u001b[0;36m<module>\u001b[0;34m\u001b[0m\n\u001b[1;32m      1\u001b[0m \u001b[0mpremerged_message\u001b[0m \u001b[0;34m=\u001b[0m \u001b[0;34m'../tests/resources/premerged_message.json'\u001b[0m\u001b[0;34m\u001b[0m\u001b[0;34m\u001b[0m\u001b[0m\n\u001b[0;32m----> 2\u001b[0;31m \u001b[0;32mwith\u001b[0m \u001b[0mopen\u001b[0m\u001b[0;34m(\u001b[0m\u001b[0mpremerged_message\u001b[0m\u001b[0;34m,\u001b[0m \u001b[0;34m'r'\u001b[0m\u001b[0;34m)\u001b[0m \u001b[0;32mas\u001b[0m \u001b[0mpre\u001b[0m\u001b[0;34m:\u001b[0m\u001b[0;34m\u001b[0m\u001b[0;34m\u001b[0m\u001b[0m\n\u001b[0m\u001b[1;32m      3\u001b[0m     \u001b[0mtrapi_message\u001b[0m \u001b[0;34m=\u001b[0m \u001b[0mjson\u001b[0m\u001b[0;34m.\u001b[0m\u001b[0mload\u001b[0m\u001b[0;34m(\u001b[0m\u001b[0mpre\u001b[0m\u001b[0;34m)\u001b[0m\u001b[0;34m\u001b[0m\u001b[0;34m\u001b[0m\u001b[0m\n",
      "\u001b[0;31mFileNotFoundError\u001b[0m: [Errno 2] No such file or directory: '../tests/resources/premerged_message.json'"
     ]
    }
   ],
   "source": [
    "premerged_message = '../tests/resources/premerged_message.json'\n",
    "with open(premerged_message, 'r') as pre:\n",
    "    trapi_message = json.load(pre)"
   ]
  },
  {
   "cell_type": "code",
   "execution_count": 7,
   "metadata": {},
   "outputs": [
    {
     "name": "stdout",
     "output_type": "stream",
     "text": [
      "{\n",
      "    \"query_graph\": {\n",
      "        \"nodes\": {\n",
      "            \"n1\": {\n",
      "                \"id\": \"HGNC:11603\",\n",
      "                \"category\": [\n",
      "                    \"biolink:Gene\"\n",
      "                ]\n",
      "            },\n",
      "            \"n2\": {\n",
      "                \"id\": \"NCBIGene:9496\",\n",
      "                \"category\": [\n",
      "                    \"biolink:Gene\"\n",
      "                ]\n",
      "            },\n",
      "            \"n3\": {\n",
      "                \"id\": \"MONDO:0005002\",\n",
      "                \"category\": [\n",
      "                    \"biolink:Disease\"\n",
      "                ]\n",
      "            },\n",
      "            \"n4\": {\n",
      "                \"id\": \"DOID:3083\",\n",
      "                \"category\": [\n",
      "                    \"biolink:Disease\"\n",
      "                ]\n",
      "            },\n",
      "            \"n5\": {\n",
      "                \"category\": [\n",
      "                    \"biolink:Disease\"\n",
      "                ]\n",
      "            }\n",
      "        },\n",
      "        \"edges\": {\n",
      "            \"e1\": {\n",
      "                \"subject\": \"n1\",\n",
      "                \"object\": \"n3\"\n",
      "            },\n",
      "            \"e2\": {\n",
      "                \"subject\": \"n2\",\n",
      "                \"object\": \"n4\",\n",
      "                \"predicate\": \"biolink:related_to\"\n",
      "            },\n",
      "            \"e3\": {\n",
      "                \"subject\": \"n1\",\n",
      "                \"object\": \"n5\"\n",
      "            }\n",
      "        }\n",
      "    },\n",
      "    \"knowledge_graph\": {\n",
      "        \"nodes\": {\n",
      "            \"HGNC:11603\": {\n",
      "                \"name\": \"TBX4\",\n",
      "                \"category\": [\n",
      "                    \"biolink:Gene\"\n",
      "                ]\n",
      "            },\n",
      "            \"NCBIGene:9496\": {\n",
      "                \"name\": \"T-box transcription factor 4\",\n",
      "                \"category\": [\n",
      "                    \"biolink:Gene\"\n",
      "                ]\n",
      "            },\n",
      "            \"MONDO:0005002\": {\n",
      "                \"name\": \"chronic obstructive pulmonary disease\",\n",
      "                \"category\": [\n",
      "                    \"biolink:Disease\"\n",
      "                ]\n",
      "            },\n",
      "            \"DOID:3083\": {\n",
      "                \"name\": \"chronic obstructive pulmonary disease\",\n",
      "                \"category\": [\n",
      "                    \"biolink:Disease\"\n",
      "                ]\n",
      "            },\n",
      "            \"UMLS:CN202575\": {\n",
      "                \"name\": \"heritable pulmonary arterial hypertension\",\n",
      "                \"category\": [\n",
      "                    \"biolink:Disease\"\n",
      "                ]\n",
      "            }\n",
      "        },\n",
      "        \"edges\": {\n",
      "            \"a8575c4e-61a6-428a-bf09-fcb3e8d1644d\": {\n",
      "                \"subject\": \"HGNC:11603\",\n",
      "                \"object\": \"MONDO:0005002\",\n",
      "                \"predicate\": \"biolink:related_to\",\n",
      "                \"relation\": \"RO:0003304\"\n",
      "            },\n",
      "            \"2d38345a-e9bf-4943-accb-dccba351dd04\": {\n",
      "                \"subject\": \"NCBIGene:9496\",\n",
      "                \"object\": \"DOID:3083\",\n",
      "                \"predicate\": \"biolink:related_to\",\n",
      "                \"relation\": \"RO:0003304\"\n",
      "            },\n",
      "            \"044a7916-fba9-4b4f-ae48-f0815b0b222d\": {\n",
      "                \"subject\": \"HGNC:11603\",\n",
      "                \"object\": \"UMLS:CN202575\",\n",
      "                \"predicate\": \"biolink:related_to\",\n",
      "                \"relation\": \"RO:0004013\"\n",
      "            }\n",
      "        }\n",
      "    },\n",
      "    \"results\": [\n",
      "        {\n",
      "            \"node_bindings\": {\n",
      "                \"n1\": [\n",
      "                    {\n",
      "                        \"id\": \"HGNC:11603\"\n",
      "                    }\n",
      "                ],\n",
      "                \"n3\": [\n",
      "                    {\n",
      "                        \"id\": \"MONDO:0005002\"\n",
      "                    }\n",
      "                ]\n",
      "            },\n",
      "            \"edge_bindings\": {\n",
      "                \"e1\": [\n",
      "                    {\n",
      "                        \"id\": \"a8575c4e-61a6-428a-bf09-fcb3e8d1644d\"\n",
      "                    }\n",
      "                ]\n",
      "            }\n",
      "        },\n",
      "        {\n",
      "            \"node_bindings\": {\n",
      "                \"n2\": [\n",
      "                    {\n",
      "                        \"id\": \"NCBIGene:9496\"\n",
      "                    }\n",
      "                ],\n",
      "                \"n4\": [\n",
      "                    {\n",
      "                        \"id\": \"DOID:3083\"\n",
      "                    }\n",
      "                ]\n",
      "            },\n",
      "            \"edge_bindings\": {\n",
      "                \"e2\": [\n",
      "                    {\n",
      "                        \"id\": \"2d38345a-e9bf-4943-accb-dccba351dd04\"\n",
      "                    }\n",
      "                ]\n",
      "            }\n",
      "        },\n",
      "        {\n",
      "            \"node_bindings\": {\n",
      "                \"n1\": [\n",
      "                    {\n",
      "                        \"id\": \"HGNC:11603\"\n",
      "                    }\n",
      "                ],\n",
      "                \"n5\": [\n",
      "                    {\n",
      "                        \"id\": \"UMLS:CN202575\"\n",
      "                    }\n",
      "                ]\n",
      "            },\n",
      "            \"edge_bindings\": {\n",
      "                \"e3\": [\n",
      "                    {\n",
      "                        \"id\": \"044a7916-fba9-4b4f-ae48-f0815b0b222d\"\n",
      "                    }\n",
      "                ]\n",
      "            }\n",
      "        }\n",
      "    ]\n",
      "}\n"
     ]
    }
   ],
   "source": [
    "print(json.dumps(trapi_message,indent=4))"
   ]
  },
  {
   "cell_type": "code",
   "execution_count": 8,
   "metadata": {},
   "outputs": [
    {
     "name": "stdout",
     "output_type": "stream",
     "text": [
      "500\n"
     ]
    }
   ],
   "source": [
    "result = requests.post('https://nodenormalization-sri.renci.org/message',json=trapi_message)\n",
    "print(result.status_code)\n",
    "#print( json.dumps( result.json(), indent = 2))"
   ]
  },
  {
   "cell_type": "code",
   "execution_count": 9,
   "metadata": {},
   "outputs": [
    {
     "name": "stdout",
     "output_type": "stream",
     "text": [
      "422\n"
     ]
    }
   ],
   "source": [
    "result = requests.post('https://nodenormalization-sri.renci.org/message',json={'message':trapi_message})\n",
    "print(result.status_code)"
   ]
  },
  {
   "cell_type": "code",
   "execution_count": 12,
   "metadata": {},
   "outputs": [
    {
     "name": "stdout",
     "output_type": "stream",
     "text": [
      "{\n",
      "  \"detail\": [\n",
      "    {\n",
      "      \"loc\": [\n",
      "        \"body\",\n",
      "        \"message\"\n",
      "      ],\n",
      "      \"msg\": \"extra fields not permitted\",\n",
      "      \"type\": \"value_error.extra\"\n",
      "    }\n",
      "  ]\n",
      "}\n"
     ]
    }
   ],
   "source": [
    "print(json.dumps(result.json(), indent=2))"
   ]
  },
  {
   "cell_type": "code",
   "execution_count": null,
   "metadata": {},
   "outputs": [],
   "source": []
  }
 ],
 "metadata": {
  "kernelspec": {
   "display_name": "Python 3",
   "language": "python",
   "name": "python3"
  },
  "language_info": {
   "codemirror_mode": {
    "name": "ipython",
    "version": 3
   },
   "file_extension": ".py",
   "mimetype": "text/x-python",
   "name": "python",
   "nbconvert_exporter": "python",
   "pygments_lexer": "ipython3",
   "version": "3.8.5"
  }
 },
 "nbformat": 4,
 "nbformat_minor": 4
}
